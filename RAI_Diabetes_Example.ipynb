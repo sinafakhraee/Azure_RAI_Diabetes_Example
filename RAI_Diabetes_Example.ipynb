{
 "cells": [
  {
   "cell_type": "code",
   "execution_count": 111,
   "metadata": {},
   "outputs": [],
   "source": [
    "# !pip install azure-ai-ml"
   ]
  },
  {
   "cell_type": "code",
   "execution_count": 1,
   "metadata": {},
   "outputs": [],
   "source": [
    "#!pip install mltable"
   ]
  },
  {
   "cell_type": "code",
   "execution_count": 76,
   "metadata": {},
   "outputs": [],
   "source": [
    "rai_diabetes_example_version_string = \"1\"\n",
    "compute_name = \"rai-cluster\"\n",
    "\n",
    "input_train_data = \"diabetes_train\"\n",
    "input_test_data = \"diabetes_test\""
   ]
  },
  {
   "cell_type": "markdown",
   "metadata": {
    "nteract": {
     "transient": {
      "deleting": false
     }
    }
   },
   "source": [
    "## Upload data as MLTable for RAI"
   ]
  },
  {
   "cell_type": "code",
   "execution_count": 77,
   "metadata": {
    "gather": {
     "logged": 1689796559032
    },
    "jupyter": {
     "outputs_hidden": false,
     "source_hidden": false
    },
    "nteract": {
     "transient": {
      "deleting": false
     }
    }
   },
   "outputs": [],
   "source": [
    "import mltable\n",
    "from mltable import MLTableHeaders, MLTableFileEncoding, DataType\n",
    "from azure.ai.ml import MLClient\n",
    "from azure.ai.ml.entities import Data\n",
    "from azure.ai.ml.constants import AssetTypes\n",
    "from azure.identity import DefaultAzureCredential\n",
    "import os\n",
    "import pandas as pd\n"
   ]
  },
  {
   "cell_type": "code",
   "execution_count": 78,
   "metadata": {},
   "outputs": [
    {
     "name": "stdout",
     "output_type": "stream",
     "text": [
      "MLClient(credential=<azure.identity._credentials.default.DefaultAzureCredential object at 0x7f038e1068c0>,\n",
      "         subscription_id=e298b7a2-89dd-4fc6-9d88-e65d5d2aaad1,\n",
      "         resource_group_name=osi-rg,\n",
      "         workspace_name=aml-ws)\n"
     ]
    }
   ],
   "source": [
    "# Enter details of your AML workspace\n",
    "subscription_id = \"\"\n",
    "resource_group = \"\"\n",
    "workspace = \"\"\n",
    "\n",
    "# Handle to the workspace\n",
    "from azure.ai.ml import MLClient\n",
    "from azure.identity import DefaultAzureCredential\n",
    "\n",
    "credential = DefaultAzureCredential()\n",
    "ml_client = MLClient(\n",
    "    credential=credential,\n",
    "    subscription_id=subscription_id,\n",
    "    resource_group_name=resource_group,\n",
    "    workspace_name=workspace,\n",
    ")\n",
    "print(ml_client)\n"
   ]
  },
  {
   "cell_type": "code",
   "execution_count": 79,
   "metadata": {},
   "outputs": [
    {
     "name": "stdout",
     "output_type": "stream",
     "text": [
      "MLClient(credential=<azure.identity._credentials.default.DefaultAzureCredential object at 0x7f038e1068c0>,\n",
      "         subscription_id=6c6683e9-e5fe-4038-8519-ce6ebec2ba15,\n",
      "         resource_group_name=registry-builtin-prod-eastus-01,\n",
      "         workspace_name=None)\n"
     ]
    }
   ],
   "source": [
    "# Get handle to azureml registry for the RAI built in components\n",
    "registry_name = \"azureml\"\n",
    "ml_client_registry = MLClient(\n",
    "    credential=credential,\n",
    "    subscription_id=subscription_id,\n",
    "    resource_group_name=resource_group,\n",
    "    registry_name=registry_name,\n",
    ")\n",
    "print(ml_client_registry)"
   ]
  },
  {
   "cell_type": "code",
   "execution_count": 80,
   "metadata": {},
   "outputs": [],
   "source": [
    "train_data_path = \"./diabetes_train\"\n",
    "test_data_path = \"./diabetes_test\""
   ]
  },
  {
   "cell_type": "code",
   "execution_count": 81,
   "metadata": {},
   "outputs": [
    {
     "data": {
      "text/plain": [
       "Data({'skip_validation': False, 'mltable_schema_url': None, 'referenced_uris': ['./diabetes_prediction_dataset_train.csv'], 'type': 'mltable', 'is_anonymous': False, 'auto_increment_version': False, 'name': 'diabetes_train', 'description': 'Example Diabetes train dataset', 'tags': {}, 'properties': {}, 'id': '/subscriptions/e298b7a2-89dd-4fc6-9d88-e65d5d2aaad1/resourceGroups/osi-rg/providers/Microsoft.MachineLearningServices/workspaces/aml-ws/data/diabetes_train/versions/28', 'Resource__source_path': None, 'base_path': '/mnt/batch/tasks/shared/LS_root/mounts/clusters/sifakhra1/code/Users/sifakhra', 'creation_context': <azure.ai.ml.entities._system_data.SystemData object at 0x7f038e70dc00>, 'serialize': <msrest.serialization.Serializer object at 0x7f038e70caf0>, 'version': '28', 'latest_version': None, 'path': 'azureml://subscriptions/e298b7a2-89dd-4fc6-9d88-e65d5d2aaad1/resourcegroups/osi-rg/workspaces/aml-ws/datastores/workspaceblobstore/paths/LocalUpload/31bd52e0b360647d8a011ec49c8839fb/diabetes_train/', 'datastore': None})"
      ]
     },
     "execution_count": 81,
     "metadata": {},
     "output_type": "execute_result"
    }
   ],
   "source": [
    "#Load some data for a quick view:\n",
    "# path_to_train_csv_file = [{\"file\": \"./diabetes_prediction_dataset_train.csv\"}]\n",
    "\n",
    "# train_tbl = mltable.from_delimited_files(\n",
    "#     paths=path_to_train_csv_file,\n",
    "#     delimiter=\",\",\n",
    "#     header=MLTableHeaders.all_files_same_headers,\n",
    "#     infer_column_types=True,\n",
    "#     include_path_column=False,\n",
    "#     encoding=MLTableFileEncoding.utf8,\n",
    "# )\n",
    "\n",
    "\n",
    "\n",
    "# train_tbl.save(train_data_path)\n",
    "\n",
    "TrainingData = Data(\n",
    "    path= train_data_path,\n",
    "    type=AssetTypes.MLTABLE,\n",
    "    description=\"Example Diabetes train dataset\",\n",
    "    name=input_train_data,\n",
    "    version=rai_diabetes_example_version_string,\n",
    ")\n",
    "\n",
    "ml_client.data.create_or_update(TrainingData)\n",
    "\n"
   ]
  },
  {
   "cell_type": "code",
   "execution_count": 82,
   "metadata": {},
   "outputs": [
    {
     "data": {
      "text/html": [
       "<div>\n",
       "<style scoped>\n",
       "    .dataframe tbody tr th:only-of-type {\n",
       "        vertical-align: middle;\n",
       "    }\n",
       "\n",
       "    .dataframe tbody tr th {\n",
       "        vertical-align: top;\n",
       "    }\n",
       "\n",
       "    .dataframe thead th {\n",
       "        text-align: right;\n",
       "    }\n",
       "</style>\n",
       "<table border=\"1\" class=\"dataframe\">\n",
       "  <thead>\n",
       "    <tr style=\"text-align: right;\">\n",
       "      <th></th>\n",
       "      <th>age</th>\n",
       "      <th>sex</th>\n",
       "      <th>bmi</th>\n",
       "      <th>bp</th>\n",
       "      <th>s1</th>\n",
       "      <th>s2</th>\n",
       "      <th>s3</th>\n",
       "      <th>s4</th>\n",
       "      <th>s5</th>\n",
       "      <th>s6</th>\n",
       "      <th>target</th>\n",
       "    </tr>\n",
       "  </thead>\n",
       "  <tbody>\n",
       "    <tr>\n",
       "      <th>0</th>\n",
       "      <td>0.070769</td>\n",
       "      <td>0.050680</td>\n",
       "      <td>0.012117</td>\n",
       "      <td>0.056301</td>\n",
       "      <td>0.034206</td>\n",
       "      <td>0.049416</td>\n",
       "      <td>-0.039719</td>\n",
       "      <td>0.034309</td>\n",
       "      <td>0.027364</td>\n",
       "      <td>-0.001078</td>\n",
       "      <td>144.0</td>\n",
       "    </tr>\n",
       "    <tr>\n",
       "      <th>1</th>\n",
       "      <td>-0.009147</td>\n",
       "      <td>0.050680</td>\n",
       "      <td>-0.018062</td>\n",
       "      <td>-0.033213</td>\n",
       "      <td>-0.020832</td>\n",
       "      <td>0.012152</td>\n",
       "      <td>-0.072854</td>\n",
       "      <td>0.071210</td>\n",
       "      <td>0.000272</td>\n",
       "      <td>0.019633</td>\n",
       "      <td>150.0</td>\n",
       "    </tr>\n",
       "    <tr>\n",
       "      <th>2</th>\n",
       "      <td>0.005383</td>\n",
       "      <td>-0.044642</td>\n",
       "      <td>0.049840</td>\n",
       "      <td>0.097615</td>\n",
       "      <td>-0.015328</td>\n",
       "      <td>-0.016345</td>\n",
       "      <td>-0.006584</td>\n",
       "      <td>-0.002592</td>\n",
       "      <td>0.017036</td>\n",
       "      <td>-0.013504</td>\n",
       "      <td>280.0</td>\n",
       "    </tr>\n",
       "    <tr>\n",
       "      <th>3</th>\n",
       "      <td>-0.027310</td>\n",
       "      <td>-0.044642</td>\n",
       "      <td>-0.035307</td>\n",
       "      <td>-0.029770</td>\n",
       "      <td>-0.056607</td>\n",
       "      <td>-0.058620</td>\n",
       "      <td>0.030232</td>\n",
       "      <td>-0.039493</td>\n",
       "      <td>-0.049872</td>\n",
       "      <td>-0.129483</td>\n",
       "      <td>125.0</td>\n",
       "    </tr>\n",
       "    <tr>\n",
       "      <th>4</th>\n",
       "      <td>-0.023677</td>\n",
       "      <td>-0.044642</td>\n",
       "      <td>-0.065486</td>\n",
       "      <td>-0.081413</td>\n",
       "      <td>-0.038720</td>\n",
       "      <td>-0.053610</td>\n",
       "      <td>0.059685</td>\n",
       "      <td>-0.076395</td>\n",
       "      <td>-0.037129</td>\n",
       "      <td>-0.042499</td>\n",
       "      <td>59.0</td>\n",
       "    </tr>\n",
       "  </tbody>\n",
       "</table>\n",
       "</div>"
      ],
      "text/plain": [
       "        age       sex       bmi        bp        s1        s2        s3  \\\n",
       "0  0.070769  0.050680  0.012117  0.056301  0.034206  0.049416 -0.039719   \n",
       "1 -0.009147  0.050680 -0.018062 -0.033213 -0.020832  0.012152 -0.072854   \n",
       "2  0.005383 -0.044642  0.049840  0.097615 -0.015328 -0.016345 -0.006584   \n",
       "3 -0.027310 -0.044642 -0.035307 -0.029770 -0.056607 -0.058620  0.030232   \n",
       "4 -0.023677 -0.044642 -0.065486 -0.081413 -0.038720 -0.053610  0.059685   \n",
       "\n",
       "         s4        s5        s6  target  \n",
       "0  0.034309  0.027364 -0.001078   144.0  \n",
       "1  0.071210  0.000272  0.019633   150.0  \n",
       "2 -0.002592  0.017036 -0.013504   280.0  \n",
       "3 -0.039493 -0.049872 -0.129483   125.0  \n",
       "4 -0.076395 -0.037129 -0.042499    59.0  "
      ]
     },
     "execution_count": 82,
     "metadata": {},
     "output_type": "execute_result"
    }
   ],
   "source": [
    "train_tbl = mltable.load(train_data_path)\n",
    "train_df = train_tbl.to_pandas_dataframe()\n",
    "\n",
    "# show the first few rows of the dataframe\n",
    "train_df.head()"
   ]
  },
  {
   "cell_type": "code",
   "execution_count": 83,
   "metadata": {},
   "outputs": [
    {
     "data": {
      "text/plain": [
       "Data({'skip_validation': False, 'mltable_schema_url': None, 'referenced_uris': ['./diabetes_prediction_dataset_test.csv'], 'type': 'mltable', 'is_anonymous': False, 'auto_increment_version': False, 'name': 'diabetes_test', 'description': 'Example Diabetes test dataset', 'tags': {}, 'properties': {}, 'id': '/subscriptions/e298b7a2-89dd-4fc6-9d88-e65d5d2aaad1/resourceGroups/osi-rg/providers/Microsoft.MachineLearningServices/workspaces/aml-ws/data/diabetes_test/versions/28', 'Resource__source_path': None, 'base_path': '/mnt/batch/tasks/shared/LS_root/mounts/clusters/sifakhra1/code/Users/sifakhra', 'creation_context': <azure.ai.ml.entities._system_data.SystemData object at 0x7f038e7071c0>, 'serialize': <msrest.serialization.Serializer object at 0x7f038e707700>, 'version': '28', 'latest_version': None, 'path': 'azureml://subscriptions/e298b7a2-89dd-4fc6-9d88-e65d5d2aaad1/resourcegroups/osi-rg/workspaces/aml-ws/datastores/workspaceblobstore/paths/LocalUpload/fc8be489b04fce654b42bb6b43a7ca65/diabetes_test/', 'datastore': None})"
      ]
     },
     "execution_count": 83,
     "metadata": {},
     "output_type": "execute_result"
    }
   ],
   "source": [
    "#Test Data\n",
    "path_to_test_csv_file = [{\"file\": \"./diabetes_prediction_dataset_test.csv\"}]\n",
    "\n",
    "# test_tbl = mltable.from_delimited_files(\n",
    "#     paths=path_to_test_csv_file,\n",
    "#     delimiter=\",\",\n",
    "#     header=MLTableHeaders.all_files_same_headers,\n",
    "#     infer_column_types=True,\n",
    "#     include_path_column=False,\n",
    "#     encoding=MLTableFileEncoding.utf8,\n",
    "# )\n",
    "\n",
    "# test_tbl.save(test_data_path)\n",
    "\n",
    "TestData = Data(\n",
    "    path=test_data_path,\n",
    "    type=AssetTypes.MLTABLE,\n",
    "    description=\"Example Diabetes test dataset\",\n",
    "    name=input_test_data,\n",
    "    version=rai_diabetes_example_version_string,\n",
    ")\n",
    "\n",
    "ml_client.data.create_or_update(TestData)"
   ]
  },
  {
   "cell_type": "code",
   "execution_count": 84,
   "metadata": {},
   "outputs": [
    {
     "data": {
      "text/html": [
       "<div>\n",
       "<style scoped>\n",
       "    .dataframe tbody tr th:only-of-type {\n",
       "        vertical-align: middle;\n",
       "    }\n",
       "\n",
       "    .dataframe tbody tr th {\n",
       "        vertical-align: top;\n",
       "    }\n",
       "\n",
       "    .dataframe thead th {\n",
       "        text-align: right;\n",
       "    }\n",
       "</style>\n",
       "<table border=\"1\" class=\"dataframe\">\n",
       "  <thead>\n",
       "    <tr style=\"text-align: right;\">\n",
       "      <th></th>\n",
       "      <th>age</th>\n",
       "      <th>sex</th>\n",
       "      <th>bmi</th>\n",
       "      <th>bp</th>\n",
       "      <th>s1</th>\n",
       "      <th>s2</th>\n",
       "      <th>s3</th>\n",
       "      <th>s4</th>\n",
       "      <th>s5</th>\n",
       "      <th>s6</th>\n",
       "      <th>target</th>\n",
       "    </tr>\n",
       "  </thead>\n",
       "  <tbody>\n",
       "    <tr>\n",
       "      <th>0</th>\n",
       "      <td>0.045341</td>\n",
       "      <td>-0.044642</td>\n",
       "      <td>-0.006206</td>\n",
       "      <td>-0.015999</td>\n",
       "      <td>0.125019</td>\n",
       "      <td>0.125198</td>\n",
       "      <td>0.019187</td>\n",
       "      <td>0.034309</td>\n",
       "      <td>0.032432</td>\n",
       "      <td>-0.005220</td>\n",
       "      <td>219.0</td>\n",
       "    </tr>\n",
       "    <tr>\n",
       "      <th>1</th>\n",
       "      <td>0.092564</td>\n",
       "      <td>-0.044642</td>\n",
       "      <td>0.036907</td>\n",
       "      <td>0.021872</td>\n",
       "      <td>-0.024960</td>\n",
       "      <td>-0.016658</td>\n",
       "      <td>0.000779</td>\n",
       "      <td>-0.039493</td>\n",
       "      <td>-0.022517</td>\n",
       "      <td>-0.021788</td>\n",
       "      <td>70.0</td>\n",
       "    </tr>\n",
       "    <tr>\n",
       "      <th>2</th>\n",
       "      <td>0.063504</td>\n",
       "      <td>0.050680</td>\n",
       "      <td>-0.004050</td>\n",
       "      <td>-0.012556</td>\n",
       "      <td>0.103003</td>\n",
       "      <td>0.048790</td>\n",
       "      <td>0.056003</td>\n",
       "      <td>-0.002592</td>\n",
       "      <td>0.084492</td>\n",
       "      <td>-0.017646</td>\n",
       "      <td>202.0</td>\n",
       "    </tr>\n",
       "    <tr>\n",
       "      <th>3</th>\n",
       "      <td>0.096197</td>\n",
       "      <td>-0.044642</td>\n",
       "      <td>0.051996</td>\n",
       "      <td>0.079265</td>\n",
       "      <td>0.054845</td>\n",
       "      <td>0.036577</td>\n",
       "      <td>-0.076536</td>\n",
       "      <td>0.141322</td>\n",
       "      <td>0.098648</td>\n",
       "      <td>0.061054</td>\n",
       "      <td>230.0</td>\n",
       "    </tr>\n",
       "    <tr>\n",
       "      <th>4</th>\n",
       "      <td>0.012648</td>\n",
       "      <td>0.050680</td>\n",
       "      <td>-0.020218</td>\n",
       "      <td>-0.002228</td>\n",
       "      <td>0.038334</td>\n",
       "      <td>0.053174</td>\n",
       "      <td>-0.006584</td>\n",
       "      <td>0.034309</td>\n",
       "      <td>-0.005142</td>\n",
       "      <td>-0.009362</td>\n",
       "      <td>111.0</td>\n",
       "    </tr>\n",
       "  </tbody>\n",
       "</table>\n",
       "</div>"
      ],
      "text/plain": [
       "        age       sex       bmi        bp        s1        s2        s3  \\\n",
       "0  0.045341 -0.044642 -0.006206 -0.015999  0.125019  0.125198  0.019187   \n",
       "1  0.092564 -0.044642  0.036907  0.021872 -0.024960 -0.016658  0.000779   \n",
       "2  0.063504  0.050680 -0.004050 -0.012556  0.103003  0.048790  0.056003   \n",
       "3  0.096197 -0.044642  0.051996  0.079265  0.054845  0.036577 -0.076536   \n",
       "4  0.012648  0.050680 -0.020218 -0.002228  0.038334  0.053174 -0.006584   \n",
       "\n",
       "         s4        s5        s6  target  \n",
       "0  0.034309  0.032432 -0.005220   219.0  \n",
       "1 -0.039493 -0.022517 -0.021788    70.0  \n",
       "2 -0.002592  0.084492 -0.017646   202.0  \n",
       "3  0.141322  0.098648  0.061054   230.0  \n",
       "4  0.034309 -0.005142 -0.009362   111.0  "
      ]
     },
     "execution_count": 84,
     "metadata": {},
     "output_type": "execute_result"
    }
   ],
   "source": [
    "test_tbl = mltable.load(test_data_path)\n",
    "test_df = test_tbl.to_pandas_dataframe()\n",
    "\n",
    "# show the first few rows of the dataframe\n",
    "test_df.head()"
   ]
  },
  {
   "cell_type": "code",
   "execution_count": 85,
   "metadata": {},
   "outputs": [],
   "source": [
    "target_column_name = \"target\""
   ]
  },
  {
   "cell_type": "code",
   "execution_count": 86,
   "metadata": {},
   "outputs": [
    {
     "data": {
      "image/png": "[encoded data removed]",
      "text/plain": [
       "<Figure size 720x432 with 1 Axes>"
      ]
     },
     "metadata": {
      "needs_background": "light"
     },
     "output_type": "display_data"
    }
   ],
   "source": [
    "import pandas as pd\n",
    "from sklearn.ensemble import RandomForestRegressor\n",
    "from sklearn.metrics import mean_squared_error\n",
    "import matplotlib.pyplot as plt\n",
    "\n",
    "\n",
    "\n",
    "# Split the data into features and target\n",
    "X_train = train_df.drop(columns=['target'])\n",
    "y_train = train_df['target']\n",
    "\n",
    "X_test = test_df.drop(columns=['target'])\n",
    "y_test = test_df['target']\n",
    "\n",
    "# Train the RandomForestRegressor model\n",
    "model = RandomForestRegressor(n_estimators=100)\n",
    "model.fit(X_train, y_train)\n",
    "\n",
    "# Predict using the model\n",
    "y_pred = model.predict(X_test)\n",
    "\n",
    "# Plotting actuals vs predictions\n",
    "plt.figure(figsize=(10, 6))\n",
    "plt.scatter(y_test, y_pred, alpha=0.5)\n",
    "plt.xlabel('Actual Values')\n",
    "plt.ylabel('Predicted Values')\n",
    "plt.title('Actual vs. Predicted Values')\n",
    "plt.plot([min(y_test), max(y_test)], [min(y_test), max(y_test)], color='red')  # Diagonal line for perfect prediction\n",
    "plt.grid(True)\n",
    "\n",
    "# Save the plot\n",
    "plt.savefig('actual_vs_predicted.png')\n",
    "plt.show()\n",
    "\n",
    "\n"
   ]
  },
  {
   "cell_type": "markdown",
   "metadata": {},
   "source": [
    "# Creating the Model\n",
    "\n",
    "To simplify the model creation process, we're going to use a pipeline.\n",
    "\n",
    "We create a directory for the training script:"
   ]
  },
  {
   "cell_type": "code",
   "execution_count": 87,
   "metadata": {},
   "outputs": [],
   "source": [
    "import os\n",
    "\n",
    "os.makedirs(\"register_model_src\", exist_ok=True)\n",
    "os.makedirs(\"diabetes_component_src\", exist_ok=True)"
   ]
  },
  {
   "cell_type": "markdown",
   "metadata": {},
   "source": [
    "Next, we write out our training script:"
   ]
  },
  {
   "cell_type": "code",
   "execution_count": 88,
   "metadata": {},
   "outputs": [
    {
     "name": "stdout",
     "output_type": "stream",
     "text": [
      "Overwriting diabetes_component_src/training_script_reg.py\n"
     ]
    }
   ],
   "source": [
    "%%writefile diabetes_component_src/training_script_reg.py\n",
    "# Necessary Imports\n",
    "\n",
    "import mltable\n",
    "import pandas as pd\n",
    "import argparse\n",
    "import shap\n",
    "import sklearn\n",
    "import pandas as pd\n",
    "import logging\n",
    "import mlflow\n",
    "from sklearn.ensemble import RandomForestRegressor\n",
    "from sklearn.metrics import mean_squared_error\n",
    "from sklearn.ensemble import RandomForestRegressor\n",
    "# import matplotlib.pyplot as plt\n",
    "from azureml.core import Run\n",
    "import argparse\n",
    "import os\n",
    "import shutil\n",
    "import tempfile\n",
    "def parse_args():\n",
    "    # setup arg parser\n",
    "    parser = argparse.ArgumentParser()\n",
    "\n",
    "    # add arguments\n",
    "    parser.add_argument(\"--training_data\", type=str, help=\"Path to training data\")\n",
    "    parser.add_argument(\"--target_column_name\", type=str, help=\"Name of target column\")\n",
    "    parser.add_argument(\"--model_output\", type=str, help=\"Path of output model\")\n",
    "    parser.add_argument(\"--test_data\", type=str, help=\"Path to test data\")\n",
    "    # parse args\n",
    "    args = parser.parse_args()\n",
    "\n",
    "    # return args\n",
    "    return args\n",
    "\n",
    "\n",
    "def main(args):\n",
    "    current_experiment = Run.get_context().experiment\n",
    "    tracking_uri = current_experiment.workspace.get_mlflow_tracking_uri()\n",
    "    print(\"tracking_uri: {0}\".format(tracking_uri))\n",
    "    mlflow.set_tracking_uri(tracking_uri)\n",
    "    mlflow.set_experiment(current_experiment.name)\n",
    "    mlflow.autolog()\n",
    "    \n",
    "    train_tbl = mltable.load(args.training_data)\n",
    "    train_df = train_tbl.to_pandas_dataframe()\n",
    "    \n",
    "    test_tbl = mltable.load(args.test_data)\n",
    "    test_df = test_tbl.to_pandas_dataframe()\n",
    "    \n",
    "    # Split the data into features and target\n",
    "    X_train = train_df.drop(columns=['target'])\n",
    "    y_train = train_df['target']\n",
    "\n",
    "    X_test = test_df.drop(columns=['target'])\n",
    "    y_test = test_df['target']\n",
    "\n",
    "    # Train the RandomForestRegressor model\n",
    "    model = RandomForestRegressor(n_estimators=100)\n",
    "    model.fit(X_train, y_train)\n",
    "\n",
    "    # Predict using the model\n",
    "    y_pred = model.predict(X_test)\n",
    "    mse = mean_squared_error(y_test, y_pred)\n",
    "    print(f\"Mean Squared Error on Test Data: {mse}\")\n",
    "    mlflow.log_metric('mse', mse)\n",
    "    \n",
    "    \n",
    "    # Plotting actuals vs predictions\n",
    "#     plt.figure(figsize=(10, 6))\n",
    "#     plt.scatter(y_test, y_pred, alpha=0.5)\n",
    "#     plt.xlabel('Actual Values')\n",
    "#     plt.ylabel('Predicted Values')\n",
    "#     plt.title('Actual vs. Predicted Values')\n",
    "#     plt.plot([min(y_test), max(y_test)], [min(y_test), max(y_test)], color='red')  # Diagonal line for perfect prediction\n",
    "#     plt.grid(True)\n",
    "\n",
    "    # Save the plot\n",
    "#     plt.savefig('actual_vs_predicted.png')\n",
    "#     mlflow.log_artifact(\"actual_vs_predicted.png\") \n",
    "    #plt.show()\n",
    "  \n",
    "    \n",
    "    \n",
    "    \n",
    "\n",
    "    # Saving model with mlflow - leave this section unchanged\n",
    "    with tempfile.TemporaryDirectory() as td:\n",
    "        print(\"Saving model with MLFlow to temporary directory\")\n",
    "        tmp_output_dir = os.path.join(td, \"my_model_dir\")\n",
    "        mlflow.sklearn.save_model(sk_model=model, path=tmp_output_dir)\n",
    "\n",
    "        print(\"Copying MLFlow model to output path\")\n",
    "        for file_name in os.listdir(tmp_output_dir):\n",
    "            print(\"  Copying: \", file_name)\n",
    "            # As of Python 3.8, copytree will acquire dirs_exist_ok as\n",
    "            # an option, removing the need for listdir\n",
    "            shutil.copy2(src=os.path.join(tmp_output_dir, file_name), dst=os.path.join(args.model_output, file_name))\n",
    "\n",
    "\n",
    "# run script\n",
    "if __name__ == \"__main__\":\n",
    "    # add space in logs\n",
    "    print(\"*\" * 60)\n",
    "    print(\"\\n\\n\")\n",
    "\n",
    "    # parse args\n",
    "    args = parse_args()\n",
    "\n",
    "    # run main function\n",
    "    main(args)\n",
    "\n",
    "    # add space in logs\n",
    "    print(\"*\" * 60)\n",
    "    print(\"\\n\\n\")"
   ]
  },
  {
   "cell_type": "code",
   "execution_count": 89,
   "metadata": {},
   "outputs": [
    {
     "name": "stdout",
     "output_type": "stream",
     "text": [
      "Overwriting register_model_src/register.py\n"
     ]
    }
   ],
   "source": [
    "%%writefile register_model_src/register.py\n",
    "\n",
    "# ---------------------------------------------------------\n",
    "# Copyright (c) Microsoft Corporation. All rights reserved.\n",
    "# ---------------------------------------------------------\n",
    "\n",
    "import argparse\n",
    "import json\n",
    "import os\n",
    "import time\n",
    "\n",
    "\n",
    "from azureml.core import Run\n",
    "\n",
    "import mlflow\n",
    "import mlflow.sklearn\n",
    "\n",
    "# Based on example:\n",
    "# https://docs.microsoft.com/en-us/azure/machine-learning/how-to-train-cli\n",
    "# which references\n",
    "# https://github.com/Azure/azureml-examples/tree/main/cli/jobs/train/lightgbm/iris\n",
    "\n",
    "\n",
    "def parse_args():\n",
    "    # setup arg parser\n",
    "    parser = argparse.ArgumentParser()\n",
    "\n",
    "    # add arguments\n",
    "    parser.add_argument(\"--model_input_path\", type=str, help=\"Path to input model\")\n",
    "    parser.add_argument(\n",
    "        \"--model_info_output_path\", type=str, help=\"Path to write model info JSON\"\n",
    "    )\n",
    "    parser.add_argument(\n",
    "        \"--model_base_name\", type=str, help=\"Name of the registered model\"\n",
    "    )\n",
    "    parser.add_argument(\n",
    "        \"--model_name_suffix\", type=int, help=\"Set negative to use epoch_secs\"\n",
    "    )\n",
    "\n",
    "    # parse args\n",
    "    args = parser.parse_args()\n",
    "\n",
    "    # return args\n",
    "    return args\n",
    "\n",
    "\n",
    "def main(args):\n",
    "    current_experiment = Run.get_context().experiment\n",
    "    tracking_uri = current_experiment.workspace.get_mlflow_tracking_uri()\n",
    "    print(\"tracking_uri: {0}\".format(tracking_uri))\n",
    "    mlflow.set_tracking_uri(tracking_uri)\n",
    "    mlflow.set_experiment(current_experiment.name)\n",
    "\n",
    "    print(\"Loading model\")\n",
    "    mlflow_model = mlflow.sklearn.load_model(args.model_input_path)\n",
    "\n",
    "    if args.model_name_suffix < 0:\n",
    "        suffix = int(time.time())\n",
    "    else:\n",
    "        suffix = args.model_name_suffix\n",
    "    registered_name = \"{0}_{1}\".format(args.model_base_name, suffix)\n",
    "    print(f\"Registering model as {registered_name}\")\n",
    "\n",
    "    print(\"Registering via MLFlow\")\n",
    "    mlflow.sklearn.log_model(\n",
    "        sk_model=mlflow_model,\n",
    "        registered_model_name=registered_name,\n",
    "        artifact_path=registered_name,\n",
    "    )\n",
    "\n",
    "    print(\"Writing JSON\")\n",
    "    dict = {\"id\": \"{0}:1\".format(registered_name)}\n",
    "    output_path = os.path.join(args.model_info_output_path, \"model_info.json\")\n",
    "    with open(output_path, \"w\") as of:\n",
    "        json.dump(dict, fp=of)\n",
    "\n",
    "\n",
    "# run script\n",
    "if __name__ == \"__main__\":\n",
    "    # add space in logs\n",
    "    print(\"*\" * 60)\n",
    "    print(\"\\n\\n\")\n",
    "\n",
    "    # parse args\n",
    "    args = parse_args()\n",
    "\n",
    "    # run main function\n",
    "    main(args)\n",
    "\n",
    "    # add space in logs\n",
    "    print(\"*\" * 60)\n",
    "    print(\"\\n\\n\")"
   ]
  },
  {
   "cell_type": "markdown",
   "metadata": {},
   "source": [
    "Now, we can build this into an AzureML component:"
   ]
  },
  {
   "cell_type": "code",
   "execution_count": 90,
   "metadata": {},
   "outputs": [],
   "source": [
    "from azure.ai.ml import load_component\n",
    "\n",
    "yaml_contents = f\"\"\"\n",
    "$schema: http://azureml/sdk-2-0/CommandComponent.json\n",
    "name: rai_diabetes_training_component\n",
    "display_name: Diabetes training component for RAI example\n",
    "version: {rai_diabetes_example_version_string}\n",
    "type: command\n",
    "inputs:\n",
    "  training_data:\n",
    "    type: path\n",
    "  test_data:\n",
    "    type: path\n",
    "  target_column_name:\n",
    "    type: string\n",
    "outputs:\n",
    "  model_output:\n",
    "    type: path\n",
    "code: ./diabetes_component_src/\n",
    "environment: azureml://registries/azureml/environments/AzureML-responsibleai-0.20-ubuntu20.04-py38-cpu/versions/4\n",
    "command: >-\n",
    "  python training_script_reg.py\n",
    "  --training_data ${{{{inputs.training_data}}}}\n",
    "  --test_data ${{{{inputs.test_data}}}}\n",
    "  --target_column_name ${{{{inputs.target_column_name}}}}\n",
    "  --model_output ${{{{outputs.model_output}}}}\n",
    "\"\"\"\n",
    "\n",
    "yaml_filename = \"DiabetesRegTrainingComp.yaml\"\n",
    "\n",
    "with open(yaml_filename, \"w\") as f:\n",
    "    f.write(yaml_contents)\n",
    "\n",
    "train_model_component = load_component(source=yaml_filename)"
   ]
  },
  {
   "cell_type": "code",
   "execution_count": 91,
   "metadata": {},
   "outputs": [],
   "source": [
    "yaml_contents = f\"\"\"\n",
    "$schema: http://azureml/sdk-2-0/CommandComponent.json\n",
    "name: register_model\n",
    "display_name: Register Model\n",
    "version: {rai_diabetes_example_version_string}\n",
    "type: command\n",
    "is_deterministic: False\n",
    "inputs:\n",
    "  model_input_path:\n",
    "    type: path\n",
    "  model_base_name:\n",
    "    type: string\n",
    "  model_name_suffix: # Set negative to use epoch_secs\n",
    "    type: integer\n",
    "    default: -1\n",
    "outputs:\n",
    "  model_info_output_path:\n",
    "    type: path\n",
    "code: ./register_model_src/\n",
    "environment: azureml://registries/azureml/environments/AzureML-responsibleai-0.20-ubuntu20.04-py38-cpu/versions/4\n",
    "command: >-\n",
    "  python register.py\n",
    "  --model_input_path ${{{{inputs.model_input_path}}}}\n",
    "  --model_base_name ${{{{inputs.model_base_name}}}}\n",
    "  --model_name_suffix ${{{{inputs.model_name_suffix}}}}\n",
    "  --model_info_output_path ${{{{outputs.model_info_output_path}}}}\n",
    "\n",
    "\"\"\"\n",
    "\n",
    "yaml_filename = \"register.yaml\"\n",
    "\n",
    "with open(yaml_filename, \"w\") as f:\n",
    "    f.write(yaml_contents)\n",
    "\n",
    "register_component = load_component(source=yaml_filename)"
   ]
  },
  {
   "cell_type": "markdown",
   "metadata": {},
   "source": [
    "We need a compute target on which to run our jobs. The following checks whether the compute specified above is present; if not, then the compute target is created."
   ]
  },
  {
   "cell_type": "code",
   "execution_count": 92,
   "metadata": {},
   "outputs": [
    {
     "name": "stdout",
     "output_type": "stream",
     "text": [
      "Found existing compute: rai-cluster\n"
     ]
    }
   ],
   "source": [
    "from azure.ai.ml.entities import AmlCompute\n",
    "\n",
    "all_compute_names = [x.name for x in ml_client.compute.list()]\n",
    "\n",
    "if compute_name in all_compute_names:\n",
    "    print(f\"Found existing compute: {compute_name}\")\n",
    "else:\n",
    "    my_compute = AmlCompute(\n",
    "        name=compute_name,\n",
    "        size=\"Standard_D2_v2\",\n",
    "        min_instances=0,\n",
    "        max_instances=4,\n",
    "        idle_time_before_scale_down=3600,\n",
    "    )\n",
    "    ml_client.compute.begin_create_or_update(my_compute).result()\n",
    "    print(\"Initiated compute creation\")"
   ]
  },
  {
   "cell_type": "markdown",
   "metadata": {},
   "source": [
    "## Running a training pipeline\n",
    "\n",
    "Now that we have our training component, we can run it. We begin by generating a unique name for the mode;"
   ]
  },
  {
   "cell_type": "code",
   "execution_count": 93,
   "metadata": {},
   "outputs": [],
   "source": [
    "import time\n",
    "\n",
    "model_name_suffix = int(time.time())\n",
    "model_name = \"rai_diabetes_example_reg\""
   ]
  },
  {
   "cell_type": "markdown",
   "metadata": {},
   "source": [
    "Next, we define our training pipeline. This has two components. The first is the training component which we defined above. The second is a component to register the model in AzureML:"
   ]
  },
  {
   "cell_type": "code",
   "execution_count": 94,
   "metadata": {},
   "outputs": [],
   "source": [
    "from azure.ai.ml import dsl, Input\n",
    "\n",
    "diabetes_train_mltable = Input(\n",
    "    type=\"mltable\",\n",
    "    path=f\"azureml:{input_train_data}:{rai_diabetes_example_version_string}\",\n",
    "    mode=\"download\",\n",
    ")\n",
    "diabetes_test_mltable = Input(\n",
    "    type=\"mltable\",\n",
    "    path=f\"azureml:{input_test_data}:{rai_diabetes_example_version_string}\",\n",
    "    mode=\"download\",\n",
    ")\n",
    "\n",
    "\n",
    "@dsl.pipeline(\n",
    "    compute=compute_name,\n",
    "    description=\"Register Model for RAI Diabetes example\",\n",
    "    experiment_name=f\"RAI_Diabetes_Example_Model_Training_{model_name_suffix}\",\n",
    ")\n",
    "def my_training_pipeline(target_column_name, training_data,test_data):\n",
    "    trained_model = train_model_component(\n",
    "        target_column_name=target_column_name, training_data=training_data, test_data=test_data\n",
    "    )\n",
    "    trained_model.set_limits(timeout=120)\n",
    "\n",
    "    _ = register_component(\n",
    "        model_input_path=trained_model.outputs.model_output,\n",
    "        model_base_name=model_name,\n",
    "        model_name_suffix=model_name_suffix,\n",
    "    )\n",
    "\n",
    "    return {}\n",
    "\n",
    "\n",
    "model_registration_pipeline_job = my_training_pipeline(\n",
    "    target_column_name, diabetes_train_mltable, diabetes_test_mltable\n",
    ")"
   ]
  },
  {
   "cell_type": "markdown",
   "metadata": {},
   "source": [
    "With the training pipeline defined, we can submit it for execution in AzureML. We define a helper function to wait for the job to complete:"
   ]
  },
  {
   "cell_type": "code",
   "execution_count": 95,
   "metadata": {},
   "outputs": [
    {
     "name": "stderr",
     "output_type": "stream",
     "text": [
      "Uploading diabetes_component_src (0.0 MBs): 100%|██████████| 3462/3462 [00:00<00:00, 102318.12it/s]\n",
      "\n",
      "\n"
     ]
    },
    {
     "name": "stdout",
     "output_type": "stream",
     "text": [
      "Pipeline job can be accessed in the following URL:\n"
     ]
    },
    {
     "data": {
      "text/html": [
       "<a href=\"https://ml.azure.com/runs/olden_wheel_0vp6rq0zpw?wsid=/subscriptions/e298b7a2-89dd-4fc6-9d88-e65d5d2aaad1/resourcegroups/osi-rg/workspaces/aml-ws&tid=16b3c013-d300-468d-ac64-7eda0820b6d3\">https://ml.azure.com/runs/olden_wheel_0vp6rq0zpw?wsid=/subscriptions/e298b7a2-89dd-4fc6-9d88-e65d5d2aaad1/resourcegroups/osi-rg/workspaces/aml-ws&tid=16b3c013-d300-468d-ac64-7eda0820b6d3</a>"
      ],
      "text/plain": [
       "<IPython.core.display.HTML object>"
      ]
     },
     "metadata": {},
     "output_type": "display_data"
    },
    {
     "name": "stdout",
     "output_type": "stream",
     "text": [
      "Latest status : Running\n",
      "Latest status : Running\n",
      "Latest status : Completed\n"
     ]
    }
   ],
   "source": [
    "from azure.ai.ml.entities import PipelineJob\n",
    "from IPython.core.display import HTML\n",
    "from IPython.display import display\n",
    "\n",
    "\n",
    "def submit_and_wait(ml_client, pipeline_job) -> PipelineJob:\n",
    "    created_job = ml_client.jobs.create_or_update(pipeline_job)\n",
    "    assert created_job is not None\n",
    "\n",
    "    print(\"Pipeline job can be accessed in the following URL:\")\n",
    "    display(HTML('<a href=\"{0}\">{0}</a>'.format(created_job.studio_url)))\n",
    "\n",
    "    while created_job.status not in [\n",
    "        \"Completed\",\n",
    "        \"Failed\",\n",
    "        \"Canceled\",\n",
    "        \"NotResponding\",\n",
    "    ]:\n",
    "        time.sleep(30)\n",
    "        created_job = ml_client.jobs.get(created_job.name)\n",
    "        print(\"Latest status : {0}\".format(created_job.status))\n",
    "    assert created_job.status == \"Completed\"\n",
    "    return created_job\n",
    "\n",
    "\n",
    "# This is the actual submission\n",
    "training_job = submit_and_wait(ml_client, model_registration_pipeline_job)"
   ]
  },
  {
   "cell_type": "code",
   "execution_count": null,
   "metadata": {},
   "outputs": [],
   "source": []
  }
 ],
 "metadata": {
  "kernel_info": {
   "name": "python38-azureml"
  },
  "kernelspec": {
   "display_name": "Python 3.10 - SDK v2",
   "language": "python",
   "name": "python310-sdkv2"
  },
  "language_info": {
   "codemirror_mode": {
    "name": "ipython",
    "version": 3
   },
   "file_extension": ".py",
   "mimetype": "text/x-python",
   "name": "python",
   "nbconvert_exporter": "python",
   "pygments_lexer": "ipython3",
   "version": "3.10.9"
  },
  "microsoft": {
   "host": {
    "AzureML": {
     "notebookHasBeenCompleted": true
    }
   },
   "ms_spell_check": {
    "ms_spell_check_language": "en"
   }
  },
  "nteract": {
   "version": "nteract-front-end@1.0.0"
  }
 },
 "nbformat": 4,
 "nbformat_minor": 2
}
